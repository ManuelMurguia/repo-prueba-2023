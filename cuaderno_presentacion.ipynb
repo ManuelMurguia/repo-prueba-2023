{
 "cells": [
  {
   "cell_type": "markdown",
   "id": "ba19b21e",
   "metadata": {},
   "source": [
    "# Introducción"
   ]
  },
  {
   "cell_type": "markdown",
   "id": "9df08de6",
   "metadata": {},
   "source": [
    "# Agregar Links\n",
    "\n",
    "[Wikipedia](https://es.wikipedia.org/wiki/Wikipedia:Portada)"
   ]
  },
  {
   "cell_type": "markdown",
   "id": "18257602",
   "metadata": {},
   "source": [
    "# Agregar Imágenes\n",
    "\n",
    "![Logo Iteso](https://encrypted-tbn0.gstatic.com/images?q=tbn:ANd9GcQx_DLtgBBbEwqZL1Vvm1NyZs29oTnxTWBofwN6jO5Dsw&s)"
   ]
  },
  {
   "cell_type": "markdown",
   "id": "5fecb334",
   "metadata": {},
   "source": [
    "# Agregar Listas\n",
    "\n",
    "## Númeradas\n",
    "1. Me\n",
    "2. Gusta\n",
    "3. Sergio\n",
    "\n",
    "\n",
    "## No Numéradas\n",
    "- Me\n",
    "- Gusta\n",
    "- Andre"
   ]
  },
  {
   "cell_type": "markdown",
   "id": "cfb2561f",
   "metadata": {},
   "source": [
    "# Líneas de Código\n",
    "\n",
    "```\n",
    "import pandas as pd\n",
    "import numpy as np\n",
    "import matplotlib.pyplot as plt\n",
    "```"
   ]
  }
 ],
 "metadata": {
  "kernelspec": {
   "display_name": "Python 3 (ipykernel)",
   "language": "python",
   "name": "python3"
  },
  "language_info": {
   "codemirror_mode": {
    "name": "ipython",
    "version": 3
   },
   "file_extension": ".py",
   "mimetype": "text/x-python",
   "name": "python",
   "nbconvert_exporter": "python",
   "pygments_lexer": "ipython3",
   "version": "3.10.10"
  }
 },
 "nbformat": 4,
 "nbformat_minor": 5
}
